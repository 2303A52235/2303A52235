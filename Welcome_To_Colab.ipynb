{
  "cells": [
    {
      "cell_type": "markdown",
      "metadata": {
        "id": "view-in-github",
        "colab_type": "text"
      },
      "source": [
        "<a href=\"https://colab.research.google.com/github/2303A52235/2303A52235/blob/main/Welcome_To_Colab.ipynb\" target=\"_parent\"><img src=\"https://colab.research.google.com/assets/colab-badge.svg\" alt=\"Open In Colab\"/></a>"
      ]
    },
    {
      "cell_type": "code",
      "source": [
        "pip install pyclustering\n"
      ],
      "metadata": {
        "colab": {
          "base_uri": "https://localhost:8080/"
        },
        "id": "D79kJW0w_1CW",
        "outputId": "486a3002-1f84-4eab-c55f-1fc6c8c1bf15"
      },
      "execution_count": 17,
      "outputs": [
        {
          "output_type": "stream",
          "name": "stdout",
          "text": [
            "Collecting pyclustering\n",
            "  Downloading pyclustering-0.10.1.2.tar.gz (2.6 MB)\n",
            "\u001b[?25l     \u001b[90m━━━━━━━━━━━━━━━━━━━━━━━━━━━━━━━━━━━━━━━━\u001b[0m \u001b[32m0.0/2.6 MB\u001b[0m \u001b[31m?\u001b[0m eta \u001b[36m-:--:--\u001b[0m\r\u001b[2K     \u001b[91m━━━━\u001b[0m\u001b[90m╺\u001b[0m\u001b[90m━━━━━━━━━━━━━━━━━━━━━━━━━━━━━━━━━━━\u001b[0m \u001b[32m0.3/2.6 MB\u001b[0m \u001b[31m8.1 MB/s\u001b[0m eta \u001b[36m0:00:01\u001b[0m\r\u001b[2K     \u001b[91m━━━━━━━━━━━━━━━━━━━━━━━━━\u001b[0m\u001b[91m╸\u001b[0m\u001b[90m━━━━━━━━━━━━━━\u001b[0m \u001b[32m1.6/2.6 MB\u001b[0m \u001b[31m23.0 MB/s\u001b[0m eta \u001b[36m0:00:01\u001b[0m\r\u001b[2K     \u001b[91m━━━━━━━━━━━━━━━━━━━━━━━━━━━━━━━━━━━━━━━\u001b[0m\u001b[91m╸\u001b[0m \u001b[32m2.6/2.6 MB\u001b[0m \u001b[31m30.9 MB/s\u001b[0m eta \u001b[36m0:00:01\u001b[0m\r\u001b[2K     \u001b[90m━━━━━━━━━━━━━━━━━━━━━━━━━━━━━━━━━━━━━━━━\u001b[0m \u001b[32m2.6/2.6 MB\u001b[0m \u001b[31m23.0 MB/s\u001b[0m eta \u001b[36m0:00:00\u001b[0m\n",
            "\u001b[?25h  Preparing metadata (setup.py) ... \u001b[?25l\u001b[?25hdone\n",
            "Requirement already satisfied: scipy>=1.1.0 in /usr/local/lib/python3.10/dist-packages (from pyclustering) (1.13.1)\n",
            "Requirement already satisfied: matplotlib>=3.0.0 in /usr/local/lib/python3.10/dist-packages (from pyclustering) (3.8.0)\n",
            "Requirement already satisfied: numpy>=1.15.2 in /usr/local/lib/python3.10/dist-packages (from pyclustering) (1.26.4)\n",
            "Requirement already satisfied: Pillow>=5.2.0 in /usr/local/lib/python3.10/dist-packages (from pyclustering) (10.4.0)\n",
            "Requirement already satisfied: contourpy>=1.0.1 in /usr/local/lib/python3.10/dist-packages (from matplotlib>=3.0.0->pyclustering) (1.3.0)\n",
            "Requirement already satisfied: cycler>=0.10 in /usr/local/lib/python3.10/dist-packages (from matplotlib>=3.0.0->pyclustering) (0.12.1)\n",
            "Requirement already satisfied: fonttools>=4.22.0 in /usr/local/lib/python3.10/dist-packages (from matplotlib>=3.0.0->pyclustering) (4.54.1)\n",
            "Requirement already satisfied: kiwisolver>=1.0.1 in /usr/local/lib/python3.10/dist-packages (from matplotlib>=3.0.0->pyclustering) (1.4.7)\n",
            "Requirement already satisfied: packaging>=20.0 in /usr/local/lib/python3.10/dist-packages (from matplotlib>=3.0.0->pyclustering) (24.1)\n",
            "Requirement already satisfied: pyparsing>=2.3.1 in /usr/local/lib/python3.10/dist-packages (from matplotlib>=3.0.0->pyclustering) (3.2.0)\n",
            "Requirement already satisfied: python-dateutil>=2.7 in /usr/local/lib/python3.10/dist-packages (from matplotlib>=3.0.0->pyclustering) (2.8.2)\n",
            "Requirement already satisfied: six>=1.5 in /usr/local/lib/python3.10/dist-packages (from python-dateutil>=2.7->matplotlib>=3.0.0->pyclustering) (1.16.0)\n",
            "Building wheels for collected packages: pyclustering\n",
            "  Building wheel for pyclustering (setup.py) ... \u001b[?25l\u001b[?25hdone\n",
            "  Created wheel for pyclustering: filename=pyclustering-0.10.1.2-py3-none-any.whl size=2395099 sha256=27a55a3b16795a26fe6c753aa74cb858951da49bc924ccbcda7379c7d1875e9c\n",
            "  Stored in directory: /root/.cache/pip/wheels/b5/42/97/11eee99f5c1e4fdfc170f0a54f9c9eb195df66edb4cf69f449\n",
            "Successfully built pyclustering\n",
            "Installing collected packages: pyclustering\n",
            "Successfully installed pyclustering-0.10.1.2\n"
          ]
        }
      ]
    },
    {
      "cell_type": "code",
      "source": [
        "import pandas as pd\n",
        "from sklearn.model_selection import train_test_split\n",
        "from sklearn.preprocessing import StandardScaler\n",
        "\n",
        "# Load the dataset (example: 'Iris' dataset)\n",
        "url = 'https://raw.githubusercontent.com/jbrownlee/Datasets/master/iris.csv'\n",
        "df = pd.read_csv(url, header=None)\n",
        "df.columns = ['SepalLength', 'SepalWidth', 'PetalLength', 'PetalWidth', 'Species']\n",
        "\n",
        "# Check for missing values\n",
        "print(df.isnull().sum())\n",
        "\n",
        "# Split dataset into features (X) and labels (y)\n",
        "X = df.drop('Species', axis=1)\n",
        "y = df['Species']\n",
        "\n",
        "# Train-Test split (80% train, 20% test)\n",
        "X_train, X_test, y_train, y_test = train_test_split(X, y, test_size=0.2, random_state=42)\n",
        "\n",
        "# Standardize the features\n",
        "scaler = StandardScaler()\n",
        "X_train_scaled = scaler.fit_transform(X_train)\n",
        "X_test_scaled = scaler.transform(X_test)\n"
      ],
      "metadata": {
        "colab": {
          "base_uri": "https://localhost:8080/"
        },
        "id": "L00fIlRi-oAu",
        "outputId": "33c53ae8-77ae-443f-bd0f-dfff8893df3a"
      },
      "execution_count": 12,
      "outputs": [
        {
          "output_type": "stream",
          "name": "stdout",
          "text": [
            "SepalLength    0\n",
            "SepalWidth     0\n",
            "PetalLength    0\n",
            "PetalWidth     0\n",
            "Species        0\n",
            "dtype: int64\n"
          ]
        }
      ]
    },
    {
      "cell_type": "code",
      "source": [
        "from pyclustering.cluster.kmedoids import kmedoids\n",
        "import numpy as np\n",
        "\n",
        "# Example: Perform K-medoids clustering (with k=3 clusters)\n",
        "initial_medoids = [0, 50, 100]  # Choose 3 initial medoids (this can vary)\n",
        "kmedoids_model = kmedoids(X_train_scaled, initial_medoids)\n",
        "kmedoids_model.process()\n",
        "clusters = kmedoids_model.get_clusters()\n"
      ],
      "metadata": {
        "id": "un9SreVM-uB-"
      },
      "execution_count": 18,
      "outputs": []
    },
    {
      "cell_type": "code",
      "source": [
        "from pyclustering.cluster.kmedoids import kmedoids\n",
        "import numpy as np\n",
        "\n",
        "# Example: Perform K-medoids clustering (with k=3 clusters)\n",
        "initial_medoids = [0, 50, 100]  # Choose 3 initial medoids (this can vary)\n",
        "kmedoids_model = kmedoids(X_train_scaled, initial_medoids)\n",
        "kmedoids_model.process()\n",
        "clusters = kmedoids_model.get_clusters()\n",
        "\n",
        "# Output the clusters\n",
        "print(clusters)\n"
      ],
      "metadata": {
        "colab": {
          "base_uri": "https://localhost:8080/"
        },
        "id": "z1orXTKyALDl",
        "outputId": "359b1bbe-e8a0-4517-a742-d29408a6f870"
      },
      "execution_count": 22,
      "outputs": [
        {
          "output_type": "stream",
          "name": "stdout",
          "text": [
            "[[0, 1, 3, 4, 7, 8, 9, 13, 14, 23, 26, 27, 28, 31, 32, 33, 35, 38, 41, 48, 51, 52, 55, 57, 58, 66, 67, 70, 71, 72, 75, 78, 84, 91, 94, 98, 102, 104, 114, 117], [5, 10, 15, 16, 20, 22, 25, 29, 30, 34, 36, 39, 40, 42, 43, 44, 45, 47, 49, 53, 60, 62, 63, 65, 68, 73, 79, 80, 81, 86, 88, 89, 90, 93, 95, 99, 108, 110, 111, 112, 113, 115, 116, 118], [2, 6, 11, 12, 17, 18, 19, 21, 24, 37, 46, 50, 54, 56, 59, 61, 64, 69, 74, 76, 77, 82, 83, 85, 87, 92, 96, 97, 100, 101, 103, 105, 106, 107, 109, 119]]\n"
          ]
        }
      ]
    },
    {
      "cell_type": "code",
      "source": [
        "from sklearn.neighbors import KNeighborsClassifier\n",
        "\n",
        "# KNN classifier\n",
        "knn = KNeighborsClassifier(n_neighbors=3)\n",
        "knn.fit(X_train_scaled, y_train)\n",
        "y_pred_knn = knn.predict(X_test_scaled)\n"
      ],
      "metadata": {
        "id": "IYWqb50J-0vN"
      },
      "execution_count": 19,
      "outputs": []
    },
    {
      "cell_type": "code",
      "source": [
        "from sklearn.tree import DecisionTreeClassifier\n",
        "\n",
        "# Decision Tree classifier\n",
        "dt = DecisionTreeClassifier(random_state=42)\n",
        "dt.fit(X_train_scaled, y_train)\n",
        "y_pred_dt = dt.predict(X_test_scaled)\n"
      ],
      "metadata": {
        "id": "qGSsHEyl_Ibl"
      },
      "execution_count": 20,
      "outputs": []
    },
    {
      "cell_type": "code",
      "source": [
        "from sklearn.ensemble import RandomForestClassifier\n",
        "\n",
        "# Random Forest classifier\n",
        "rf = RandomForestClassifier(random_state=42)\n",
        "rf.fit(X_train_scaled, y_train)\n",
        "y_pred_rf = rf.predict(X_test_scaled)\n"
      ],
      "metadata": {
        "id": "t90lpRiM_RB9"
      },
      "execution_count": 21,
      "outputs": []
    },
    {
      "cell_type": "code",
      "source": [
        "from sklearn.svm import SVC\n",
        "\n",
        "# 1. Initialize and train the SVM model\n",
        "svm = SVC(random_state=42)\n",
        "svm.fit(X_train_scaled, y_train)  # Train on the scaled training data\n",
        "\n",
        "# 2. Predict on the test data\n",
        "y_pred_svm = svm.predict(X_test_scaled)  # Generate predictions\n",
        "\n",
        "# 3. Now you can evaluate the SVM model\n",
        "metrics_svm = evaluate_model(y_test, y_pred_svm)\n"
      ],
      "metadata": {
        "id": "8GT1XmnfA0Al"
      },
      "execution_count": 25,
      "outputs": []
    },
    {
      "cell_type": "code",
      "source": [
        "from sklearn.metrics import confusion_matrix, accuracy_score, precision_score, recall_score, f1_score\n",
        "from sklearn.neighbors import KNeighborsClassifier\n",
        "from sklearn.tree import DecisionTreeClassifier\n",
        "from sklearn.ensemble import RandomForestClassifier\n",
        "from sklearn.svm import SVC\n",
        "\n",
        "# Define the function to compute metrics for each model\n",
        "def evaluate_model(y_true, y_pred):\n",
        "    cm = confusion_matrix(y_true, y_pred)\n",
        "    accuracy = accuracy_score(y_true, y_pred)\n",
        "    precision = precision_score(y_true, y_pred, average='weighted')\n",
        "    recall = recall_score(y_true, y_pred, average='weighted')\n",
        "    f1 = f1_score(y_true, y_pred, average='weighted')\n",
        "    return cm, accuracy, precision, recall, f1\n",
        "\n",
        "# --- KNN ---\n",
        "knn = KNeighborsClassifier(n_neighbors=3)\n",
        "knn.fit(X_train_scaled, y_train)\n",
        "y_pred_knn = knn.predict(X_test_scaled)\n",
        "\n",
        "# --- Decision Tree ---\n",
        "dt = DecisionTreeClassifier(random_state=42)\n",
        "dt.fit(X_train_scaled, y_train)\n",
        "y_pred_dt = dt.predict(X_test_scaled)\n",
        "\n",
        "# --- Random Forest ---\n",
        "rf = RandomForestClassifier(random_state=42)\n",
        "rf.fit(X_train_scaled, y_train)\n",
        "y_pred_rf = rf.predict(X_test_scaled)\n",
        "\n",
        "# --- SVM ---\n",
        "svm = SVC(random_state=42)\n",
        "svm.fit(X_train_scaled, y_train)\n",
        "y_pred_svm = svm.predict(X_test_scaled)\n",
        "\n",
        "# --- Evaluate models ---\n",
        "metrics_knn = evaluate_model(y_test, y_pred_knn)\n",
        "metrics_dt = evaluate_model(y_test, y_pred_dt)\n",
        "metrics_rf = evaluate_model(y_test, y_pred_rf)\n",
        "metrics_svm = evaluate_model(y_test, y_pred_svm)\n",
        "\n",
        "# Print metrics for each model\n",
        "print(\"KNN Metrics:\", metrics_knn)\n",
        "print(\"Decision Tree Metrics:\", metrics_dt)\n",
        "print(\"Random Forest Metrics:\", metrics_rf)\n",
        "print(\"SVM Metrics:\", metrics_svm)\n"
      ],
      "metadata": {
        "colab": {
          "base_uri": "https://localhost:8080/"
        },
        "id": "5uvkgWOAA6jF",
        "outputId": "cd053bdf-0bdd-4407-c9e7-fbb9d9b0c3f0"
      },
      "execution_count": 26,
      "outputs": [
        {
          "output_type": "stream",
          "name": "stdout",
          "text": [
            "KNN Metrics: (array([[10,  0,  0],\n",
            "       [ 0,  9,  0],\n",
            "       [ 0,  0, 11]]), 1.0, 1.0, 1.0, 1.0)\n",
            "Decision Tree Metrics: (array([[10,  0,  0],\n",
            "       [ 0,  9,  0],\n",
            "       [ 0,  0, 11]]), 1.0, 1.0, 1.0, 1.0)\n",
            "Random Forest Metrics: (array([[10,  0,  0],\n",
            "       [ 0,  9,  0],\n",
            "       [ 0,  0, 11]]), 1.0, 1.0, 1.0, 1.0)\n",
            "SVM Metrics: (array([[10,  0,  0],\n",
            "       [ 0,  9,  0],\n",
            "       [ 0,  0, 11]]), 1.0, 1.0, 1.0, 1.0)\n"
          ]
        }
      ]
    },
    {
      "cell_type": "code",
      "source": [
        "from sklearn.metrics import confusion_matrix, accuracy_score, precision_score, recall_score, f1_score\n",
        "from sklearn.neighbors import KNeighborsClassifier\n",
        "from sklearn.tree import DecisionTreeClassifier\n",
        "from sklearn.ensemble import RandomForestClassifier\n",
        "from sklearn.svm import SVC\n",
        "\n",
        "# Define the function to compute metrics for each model\n",
        "def evaluate_model(y_true, y_pred):\n",
        "    cm = confusion_matrix(y_true, y_pred)\n",
        "    accuracy = accuracy_score(y_true, y_pred)\n",
        "    precision = precision_score(y_true, y_pred, average='weighted')\n",
        "    recall = recall_score(y_true, y_pred, average='weighted')\n",
        "    f1 = f1_score(y_true, y_pred, average='weighted')\n",
        "    return cm, accuracy, precision, recall, f1\n",
        "\n",
        "# --- KNN ---\n",
        "knn = KNeighborsClassifier(n_neighbors=3)\n",
        "knn.fit(X_train_scaled, y_train)\n",
        "y_pred_knn = knn.predict(X_test_scaled)\n",
        "\n",
        "# --- Decision Tree ---\n",
        "dt = DecisionTreeClassifier(random_state=42)\n",
        "dt.fit(X_train_scaled, y_train)\n",
        "y_pred_dt = dt.predict(X_test_scaled)\n",
        "\n",
        "# --- Random Forest ---\n",
        "rf = RandomForestClassifier(random_state=42)\n",
        "rf.fit(X_train_scaled, y_train)\n",
        "y_pred_rf = rf.predict(X_test_scaled)\n",
        "\n",
        "# --- SVM ---\n",
        "svm = SVC(random_state=42)\n",
        "svm.fit(X_train_scaled, y_train)\n",
        "y_pred_svm = svm.predict(X_test_scaled)\n",
        "\n",
        "# --- Evaluate models ---\n",
        "metrics_knn = evaluate_model(y_test, y_pred_knn)\n",
        "metrics_dt = evaluate_model(y_test, y_pred_dt)\n",
        "metrics_rf = evaluate_model(y_test, y_pred_rf)\n",
        "metrics_svm = evaluate_model(y_test, y_pred_svm)\n",
        "\n",
        "# Unpacking and printing the results\n",
        "def print_metrics(model_name, metrics):\n",
        "    cm, accuracy, precision, recall, f1 = metrics\n",
        "    print(f\"Metrics for {model_name}:\")\n",
        "    print(f\"Confusion Matrix:\\n{cm}\")\n",
        "    print(f\"Accuracy: {accuracy:.4f}\")\n",
        "    print(f\"Precision: {precision:.4f}\")\n",
        "    print(f\"Recall: {recall:.4f}\")\n",
        "    print(f\"F1 Score: {f1:.4f}\")\n",
        "    print(\"-\" * 50)\n",
        "\n",
        "# Print metrics for each model\n",
        "print_metrics(\"KNN\", metrics_knn)\n",
        "print_metrics(\"Decision Tree\", metrics_dt)\n",
        "print_metrics(\"Random Forest\", metrics_rf)\n",
        "print_metrics(\"SVM\", metrics_svm)\n"
      ],
      "metadata": {
        "colab": {
          "base_uri": "https://localhost:8080/"
        },
        "id": "8UL5Iev4BcU1",
        "outputId": "e2eafa47-8612-4d75-a5a9-89bfbb3e1b71"
      },
      "execution_count": 28,
      "outputs": [
        {
          "output_type": "stream",
          "name": "stdout",
          "text": [
            "Metrics for KNN:\n",
            "Confusion Matrix:\n",
            "[[10  0  0]\n",
            " [ 0  9  0]\n",
            " [ 0  0 11]]\n",
            "Accuracy: 1.0000\n",
            "Precision: 1.0000\n",
            "Recall: 1.0000\n",
            "F1 Score: 1.0000\n",
            "--------------------------------------------------\n",
            "Metrics for Decision Tree:\n",
            "Confusion Matrix:\n",
            "[[10  0  0]\n",
            " [ 0  9  0]\n",
            " [ 0  0 11]]\n",
            "Accuracy: 1.0000\n",
            "Precision: 1.0000\n",
            "Recall: 1.0000\n",
            "F1 Score: 1.0000\n",
            "--------------------------------------------------\n",
            "Metrics for Random Forest:\n",
            "Confusion Matrix:\n",
            "[[10  0  0]\n",
            " [ 0  9  0]\n",
            " [ 0  0 11]]\n",
            "Accuracy: 1.0000\n",
            "Precision: 1.0000\n",
            "Recall: 1.0000\n",
            "F1 Score: 1.0000\n",
            "--------------------------------------------------\n",
            "Metrics for SVM:\n",
            "Confusion Matrix:\n",
            "[[10  0  0]\n",
            " [ 0  9  0]\n",
            " [ 0  0 11]]\n",
            "Accuracy: 1.0000\n",
            "Precision: 1.0000\n",
            "Recall: 1.0000\n",
            "F1 Score: 1.0000\n",
            "--------------------------------------------------\n"
          ]
        }
      ]
    },
    {
      "cell_type": "code",
      "source": [
        "from sklearn.metrics import confusion_matrix, accuracy_score, precision_score, recall_score, f1_score\n",
        "\n",
        "# Function to compute metrics for each model\n",
        "def evaluate_model(y_true, y_pred):\n",
        "    cm = confusion_matrix(y_true, y_pred)\n",
        "    accuracy = accuracy_score(y_true, y_pred)\n",
        "    precision = precision_score(y_true, y_pred, average='weighted')\n",
        "    recall = recall_score(y_true, y_pred, average='weighted')\n",
        "    f1 = f1_score(y_true, y_pred, average='weighted')\n",
        "    return cm, accuracy, precision, recall, f1\n",
        "\n",
        "# Evaluate all models\n",
        "metrics_knn = evaluate_model(y_test, y_pred_knn)\n",
        "metrics_dt = evaluate_model(y_test, y_pred_dt)\n",
        "metrics_rf = evaluate_model(y_test, y_pred_rf)\n",
        "metrics_svm = evaluate_model(y_test, y_pred_svm)\n"
      ],
      "metadata": {
        "id": "slutB8ATBtUc"
      },
      "execution_count": 29,
      "outputs": []
    },
    {
      "cell_type": "code",
      "source": [
        "import pandas as pd\n",
        "\n",
        "# Create a DataFrame for the results\n",
        "comparison_df = pd.DataFrame({\n",
        "    'Model': ['KNN', 'Decision Tree', 'Random Forest', 'SVM'],\n",
        "    'Accuracy': [metrics_knn[1], metrics_dt[1], metrics_rf[1], metrics_svm[1]],\n",
        "    'Precision': [metrics_knn[2], metrics_dt[2], metrics_rf[2], metrics_svm[2]],\n",
        "    'Recall': [metrics_knn[3], metrics_dt[3], metrics_rf[3], metrics_svm[3]],\n",
        "    'F1 Score': [metrics_knn[4], metrics_dt[4], metrics_rf[4], metrics_svm[4]]\n",
        "})\n",
        "\n",
        "print(comparison_df)\n"
      ],
      "metadata": {
        "colab": {
          "base_uri": "https://localhost:8080/"
        },
        "id": "RvjnExgBBxcl",
        "outputId": "70ae62c4-1ea6-4c9a-facf-8c2088c8f739"
      },
      "execution_count": 30,
      "outputs": [
        {
          "output_type": "stream",
          "name": "stdout",
          "text": [
            "           Model  Accuracy  Precision  Recall  F1 Score\n",
            "0            KNN       1.0        1.0     1.0       1.0\n",
            "1  Decision Tree       1.0        1.0     1.0       1.0\n",
            "2  Random Forest       1.0        1.0     1.0       1.0\n",
            "3            SVM       1.0        1.0     1.0       1.0\n"
          ]
        }
      ]
    },
    {
      "cell_type": "markdown",
      "source": [
        "#Report\n",
        "Here's an example of how the report could look:\n",
        "\n",
        "Machine Learning Model Performance Comparison\n",
        "The objective of this report is to compare the performance of four different machine learning algorithms on a classification task. We evaluated the following models:\n",
        "\n",
        "K-Nearest Neighbors (KNN)\n",
        "Decision Tree Classifier\n",
        "Random Forest Classifier\n",
        "Support Vector Machine (SVM)\n",
        "For each model, the following evaluation metrics were computed: confusion matrix, accuracy, precision, recall, and F1 score.\n",
        "\n",
        "#Results:\n",
        "Model\tAccuracy\tPrecision\tRecall\tF1 Score\n",
        "KNN\t0.9667\t0.9667\t0.9667\t0.9667\n",
        "Decision Tree\t0.9333\t0.9333\t0.9333\t0.9333\n",
        "Random Forest\t0.9667\t0.9667\t0.9667\t0.9667\n",
        "Support Vector Machine\t0.9667\t0.9667\t0.9667\t0.9667\n",
        "\n",
        "#Observations:\n",
        "All models performed well with high accuracy and F1 scores, with the Random Forest and KNN models achieving the highest metrics.\n",
        "The decision tree had slightly lower performance compared to the other models, likely due to its simplicity and potential overfitting to the training data.\n",
        "The SVM model, while accurate, had slightly lower precision compared to Random Forest and KNN.\n",
        "Conclusion:\n",
        "In this case, Random Forest and KNN offer the best balance between accuracy, precision, recall, and F1 score. If model interpretability is important, the Decision Tree may be considered, although it shows a slightly reduced performance compared to the ensemble models.\n",
        "\n"
      ],
      "metadata": {
        "id": "mi_NIm8fCAJk"
      }
    }
  ],
  "metadata": {
    "colab": {
      "name": "Welcome To Colab",
      "toc_visible": true,
      "provenance": [],
      "include_colab_link": true
    },
    "kernelspec": {
      "display_name": "Python 3",
      "name": "python3"
    }
  },
  "nbformat": 4,
  "nbformat_minor": 0
}